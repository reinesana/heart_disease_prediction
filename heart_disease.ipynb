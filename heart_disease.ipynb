{
 "cells": [
  {
   "cell_type": "code",
   "execution_count": 49,
   "metadata": {},
   "outputs": [],
   "source": [
    "import numpy as np\n",
    "import pandas as pd\n",
    "from sklearn.model_selection import train_test_split\n",
    "from sklearn.linear_model import LogisticRegression\n"
   ]
  },
  {
   "cell_type": "code",
   "execution_count": 50,
   "metadata": {},
   "outputs": [],
   "source": [
    "data = pd.read_csv(\"framingham.csv\")\n",
    "#iloc allocates a set from the data and [:,] allocates the colomn\n",
    "x = data.iloc[:,0:-1]\n",
    "y = data.iloc[:,-1]\n",
    "x_train, x_test, y_train, y_test = train_test_split(x, y, test_size=0.25, train_size=0.75)\n"
   ]
  },
  {
   "cell_type": "code",
   "execution_count": 51,
   "metadata": {},
   "outputs": [],
   "source": [
    "#put data with missing data with average\n",
    "x_train['cigsPerDay'] = x_train['cigsPerDay'].fillna(0)\n",
    "x_train['heartRate'] = x_train['heartRate'].fillna(x_train['heartRate'].mean())\n",
    "x_train['BPMeds'] = x_train['BPMeds'].fillna(x_train['BPMeds'].mean())\n",
    "x_train['totChol'] = x_train['totChol'].fillna(0)\n",
    "x_train['BMI'] = x_train['BMI'].fillna(x_train['BMI'].mean())\n",
    "x_train['glucose'] = x_train['glucose'].fillna(x_train['glucose'].mean())"
   ]
  },
  {
   "cell_type": "code",
   "execution_count": 52,
   "metadata": {},
   "outputs": [],
   "source": [
    "#put data with missing data with average\n",
    "x_test['cigsPerDay'] = x_test['cigsPerDay'].fillna(0)\n",
    "x_test['heartRate'] = x_test['heartRate'].fillna(x_test['heartRate'].mean())\n",
    "x_test['BPMeds'] = x_test['BPMeds'].fillna(x_test['BPMeds'].mean())\n",
    "x_test['totChol'] = x_test['totChol'].fillna(0)\n",
    "x_test['BMI'] = x_test['BMI'].fillna(x_test['BMI'].mean())\n",
    "x_test['glucose'] = x_test['glucose'].fillna(x_test['glucose'].mean())\n",
    "\n"
   ]
  },
  {
   "cell_type": "code",
   "execution_count": 53,
   "metadata": {},
   "outputs": [],
   "source": [
    "#dropping rows with missing data\n",
    "#drop sepecific columb using .drop(coloums=['coloum])\n",
    "x_train.drop(columns=['education'], inplace=True)\n",
    "x_test.drop(columns=['education'], inplace=True)"
   ]
  },
  {
   "cell_type": "code",
   "execution_count": 54,
   "metadata": {},
   "outputs": [],
   "source": [
    "#check coloumns with nan\n",
    "#nan_columns = x_train.columns[x_train.isnull().any()]\n",
    "#print(\"Columns with NaN values:\", nan_columns)"
   ]
  },
  {
   "cell_type": "code",
   "execution_count": 55,
   "metadata": {},
   "outputs": [
    {
     "name": "stderr",
     "output_type": "stream",
     "text": [
      "/Library/Frameworks/Python.framework/Versions/3.12/lib/python3.12/site-packages/sklearn/linear_model/_logistic.py:469: ConvergenceWarning: lbfgs failed to converge (status=1):\n",
      "STOP: TOTAL NO. of ITERATIONS REACHED LIMIT.\n",
      "\n",
      "Increase the number of iterations (max_iter) or scale the data as shown in:\n",
      "    https://scikit-learn.org/stable/modules/preprocessing.html\n",
      "Please also refer to the documentation for alternative solver options:\n",
      "    https://scikit-learn.org/stable/modules/linear_model.html#logistic-regression\n",
      "  n_iter_i = _check_optimize_result(\n"
     ]
    },
    {
     "data": {
      "text/plain": [
       "array([0, 0, 0, ..., 0, 0, 0])"
      ]
     },
     "execution_count": 55,
     "metadata": {},
     "output_type": "execute_result"
    }
   ],
   "source": [
    "lr = LogisticRegression(max_iter=1000)  # Adjust the value as needed\n",
    "lr.fit(x_train, y_train)\n",
    "lr.predict(x_test)\n"
   ]
  },
  {
   "cell_type": "code",
   "execution_count": 56,
   "metadata": {},
   "outputs": [
    {
     "data": {
      "text/plain": [
       "0.8622641509433963"
      ]
     },
     "execution_count": 56,
     "metadata": {},
     "output_type": "execute_result"
    }
   ],
   "source": [
    "lr.score(x_test, y_test)"
   ]
  }
 ],
 "metadata": {
  "kernelspec": {
   "display_name": "base",
   "language": "python",
   "name": "python3"
  },
  "language_info": {
   "codemirror_mode": {
    "name": "ipython",
    "version": 3
   },
   "file_extension": ".py",
   "mimetype": "text/x-python",
   "name": "python",
   "nbconvert_exporter": "python",
   "pygments_lexer": "ipython3",
   "version": "3.12.1"
  }
 },
 "nbformat": 4,
 "nbformat_minor": 2
}
